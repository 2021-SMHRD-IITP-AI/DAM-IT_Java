{
 "cells": [
  {
   "cell_type": "code",
   "execution_count": null,
   "id": "7109ad4d",
   "metadata": {},
   "outputs": [
    {
     "name": "stdout",
     "output_type": "stream",
     "text": [
      " * Serving Flask app \"__main__\" (lazy loading)\n",
      " * Environment: production\n",
      "   WARNING: This is a development server. Do not use it in a production deployment.\n",
      "   Use a production WSGI server instead.\n",
      " * Debug mode: off\n"
     ]
    },
    {
     "name": "stderr",
     "output_type": "stream",
     "text": [
      " * Running on http://localhost:8000/ (Press CTRL+C to quit)\n",
      "127.0.0.1 - - [29/Sep/2021 17:32:37] \"\u001b[33mGET / HTTP/1.1\u001b[0m\" 404 -\n",
      "127.0.0.1 - - [29/Sep/2021 17:32:37] \"\u001b[33mGET /favicon.ico HTTP/1.1\u001b[0m\" 404 -\n"
     ]
    }
   ],
   "source": [
    "from flask import Flask, render_template, request\n",
    "from werkzeug.utils import secure_filename\n",
    "app = Flask(__name__)\n",
    "\n",
    "#업로드 HTML 렌더링\n",
    "@app.route('/upload')\n",
    "def render_file():\n",
    "    # api 호출방식 확인\n",
    "    return render_template('upload.html')\n",
    "\n",
    "#파일 업로드 처리\n",
    "@app.route('/fileUpload', methods = ['GET', 'POST'])\n",
    "def upload_file():\n",
    "    if request.method == 'POST':\n",
    "        f = request.files['file']\n",
    "        #저장할 경로 + 파일명\n",
    "        f.save(secure_filename(f.filename))\n",
    "        return 'uploads 디렉토리 -> 파일 업로드 성공!'\n",
    "\n",
    "if __name__ == '__main__':\n",
    "    #서버 실행\n",
    "   app.run()"
   ]
  },
  {
   "cell_type": "code",
   "execution_count": null,
   "id": "444640e5",
   "metadata": {},
   "outputs": [],
   "source": []
  }
 ],
 "metadata": {
  "kernelspec": {
   "display_name": "Python 3",
   "language": "python",
   "name": "python3"
  },
  "language_info": {
   "codemirror_mode": {
    "name": "ipython",
    "version": 3
   },
   "file_extension": ".py",
   "mimetype": "text/x-python",
   "name": "python",
   "nbconvert_exporter": "python",
   "pygments_lexer": "ipython3",
   "version": "3.8.8"
  }
 },
 "nbformat": 4,
 "nbformat_minor": 5
}
