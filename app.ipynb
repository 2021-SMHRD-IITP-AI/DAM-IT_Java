{
 "cells": [
  {
   "cell_type": "code",
   "execution_count": 7,
   "id": "d5fc96d2",
   "metadata": {},
   "outputs": [],
   "source": [
    "from flask_restful import Api"
   ]
  },
  {
   "cell_type": "code",
   "execution_count": null,
   "id": "03e9ea9e",
   "metadata": {},
   "outputs": [
    {
     "name": "stdout",
     "output_type": "stream",
     "text": [
      " * Serving Flask app \"__main__\" (lazy loading)\n",
      " * Environment: production\n",
      "   WARNING: This is a development server. Do not use it in a production deployment.\n",
      "   Use a production WSGI server instead.\n",
      " * Debug mode: off\n"
     ]
    },
    {
     "name": "stderr",
     "output_type": "stream",
     "text": [
      " * Running on http://127.0.0.1:5000/ (Press CTRL+C to quit)\n",
      "127.0.0.1 - - [01/Oct/2021 17:32:23] \"\u001b[33mGET / HTTP/1.1\u001b[0m\" 404 -\n"
     ]
    }
   ],
   "source": [
    "from flask import Flask, jsonify, request\n",
    "from flask_restful import Resource, Api, reqparse\n",
    "import sklearn\n",
    "from sklearn.datasets import load_iris\n",
    "from sklearn.tree import DecisionTreeClassifier\n",
    "from sklearn.model_selection import train_test_split\n",
    "\n",
    "app = Flask(__name__)\n",
    "api = Api(app)\n",
    "app.config['DEBUG'] = False\n",
    "\n",
    "@app.route('/dd')\n",
    "def index():\n",
    "    return 'Hellbdbo 머faasad고?'\n",
    "\n",
    "@app.route('/test')\n",
    "class testAPI(Resource):\n",
    "    def get(self):\n",
    "        return jsonify({\"result \":\"연결잘됩니다 from flask\" })\n",
    "    \n",
    "    def post(self):\n",
    "        iris = load_iris()\n",
    "        parsed_request = request.json.get('content')\n",
    "        result = iris.feature_names\n",
    "        # result = iris.feature_names.tolist()\n",
    "        print(parsed_request)\n",
    "        return result\n",
    "    \n",
    "if __name__ == '__main__':\n",
    "    app.run(debug=False)"
   ]
  },
  {
   "cell_type": "code",
   "execution_count": null,
   "id": "e534cf5f",
   "metadata": {},
   "outputs": [],
   "source": []
  }
 ],
 "metadata": {
  "kernelspec": {
   "display_name": "Python 3",
   "language": "python",
   "name": "python3"
  },
  "language_info": {
   "codemirror_mode": {
    "name": "ipython",
    "version": 3
   },
   "file_extension": ".py",
   "mimetype": "text/x-python",
   "name": "python",
   "nbconvert_exporter": "python",
   "pygments_lexer": "ipython3",
   "version": "3.8.8"
  }
 },
 "nbformat": 4,
 "nbformat_minor": 5
}
